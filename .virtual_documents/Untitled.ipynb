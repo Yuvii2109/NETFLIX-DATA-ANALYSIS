


import numpy as np
import pandas as pd
import matplotlib.pyplot as plt
import seaborn as sns

df = pd.read_csv("mymoviedb.csv", lineterminator = "\n")
df.head()


df.info()


df["Genre"].head()


df["Genre"]


df.duplicated()


df.duplicated().sum()


df.describe()





df['Release_Date'] = pd.to_datetime(df['Release_Date'])
print(df['Release_Date'].dtypes)


df['Release_Date'] = df['Release_Date'].dt.year
df['Release_Date'].dtypes


df.head()


# We've changed the Release_Date to Release_Year, Now, 
# Dropping the columns - Overview, Original_Language, Poster_Url

cols = ['Overview', 'Original_Language', 'Poster_Url']
df.drop(cols, axis = 1, inplace = True) # Columns ke liye axis = 1
df.columns


df.head()





def categorize_col(df, col, labels):
    edges = [df[col].describe()['min'],
             df[col].describe()['25%'],
             df[col].describe()['50%'],
             df[col].describe()['75%'],
             df[col].describe()['max']]
    df[col] = pd.cut(df[col], edges, labels = labels, duplicates = 'drop')
    return df


labels = ["Not Popular", "Below Average", "Average", "Popular"]

categorize_col(df, "Vote_Average", labels)



