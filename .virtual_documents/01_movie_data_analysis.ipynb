


import numpy as np
import pandas as pd
import matplotlib.pyplot as plt
import seaborn as sns

df = pd.read_csv("mymoviedb.csv", lineterminator = "\n")
df.head()


df.info()


df["Genre"].head()


df["Genre"]


df.duplicated()


df.duplicated().sum()


df.describe()





df['Release_Date'] = pd.to_datetime(df['Release_Date'])
print(df['Release_Date'].dtypes)


df['Release_Date'] = df['Release_Date'].dt.year
df['Release_Date'].dtypes


df.head()


# We've changed the Release_Date to Release_Year, Now, 
# Dropping the columns - Overview, Original_Language, Poster_Url

cols = ['Overview', 'Original_Language', 'Poster_Url']
df.drop(cols, axis = 1, inplace = True) # Columns ke liye axis = 1
df.columns


df.head()





def categorize_col(df, col, labels):
    edges = [df[col].describe()['min'],
             df[col].describe()['25%'],
             df[col].describe()['50%'],
             df[col].describe()['75%'],
             df[col].describe()['max']]
    df[col] = pd.cut(df[col], edges, labels = labels, duplicates = 'drop')
    return df


labels = ["Bad", "Below Average", "Average", "Good"]

categorize_col(df, "Vote_Average", labels)


df["Vote_Average"].unique()


df.head()


df["Vote_Average"].value_counts()


df.dropna(inplace = True)
df.isna().sum()


df.head()





df['Genre'] = df['Genre'].str.split(", ")
df = df.explode('Genre').reset_index(drop = True)
df.head()





df['Genre'] = df['Genre'].astype('category')
df['Genre'].dtypes


df.info()


df.nunique() # Number of unique values





sns.set_style('whitegrid')





df['Genre'].describe()


sns.catplot(y = 'Genre', data = df, kind = 'count', 
            order = df['Genre'].value_counts().index, 
           color = '#4287f5')
plt.title("Genre Column Distribution")
plt.grid(True, linestyle = '--')
plt.show()





sns.catplot(y = 'Vote_Average', data = df, kind = 'count',
           order = df['Vote_Average'].value_counts().index, 
           color = 'red')
plt.title('Votes Distribution')
plt.grid(True, linestyle = '--')
plt.show()





df[df['Popularity'] == df['Popularity'].max()]





df[df['Popularity'] == df['Popularity'].min()]





df['Release_Date'].hist()
plt.title("Release Date column distribution")
plt.show()


mask = (df['Release_Date'] >= 2000) & (df['Release_Date'] <= 2010)
df.loc[mask, 'Release_Date'].hist(bins = 10)
plt.title("Movies released 2000–2010")
plt.xlabel("Release Year")
plt.ylabel("Count")
plt.show()


mask = (df['Release_Date'] >= 2010) & (df['Release_Date'] <= 2020)
df.loc[mask, 'Release_Date'].hist(bins = 10)
plt.title("Movies released 2010–2020")
plt.xlabel("Release Year")
plt.ylabel("Count")
plt.show()


mask = (df['Release_Date'] >= 2020) & (df['Release_Date'] < 2022)
df.loc[mask, 'Release_Date'].hist()
plt.title("Movies released 2020–2021")
plt.xlabel("Release Year")
plt.ylabel("Count")
plt.show()









